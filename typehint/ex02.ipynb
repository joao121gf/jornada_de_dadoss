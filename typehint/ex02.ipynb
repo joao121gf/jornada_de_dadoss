{
 "cells": [
  {
   "cell_type": "code",
   "execution_count": 1,
   "id": "9c3ae283",
   "metadata": {},
   "outputs": [
    {
     "name": "stdout",
     "output_type": "stream",
     "text": [
      "Temos esse produto\n",
      "O novo preço de notebook é R$ 200\n",
      "None\n",
      "{'notebook': 200, 'monitor': 800, 'teclado': 120}\n"
     ]
    }
   ],
   "source": [
    "produtos: dict[str, int] = {\n",
    "    \"notebook\": 2500,\n",
    "    \"monitor\": 800,\n",
    "    \"teclado\": 120\n",
    "}\n",
    "\n",
    "#Crie uma função que receba um nome de produto e verifique se ele está no dicionário.\n",
    "\n",
    "def verificar_se_tem_no_dicionario(nome:str) -> str:\n",
    "    if nome in produtos:\n",
    "        return 'Temos esse produto'\n",
    "    else:\n",
    "        return 'Não temos esse produto no estoque'\n",
    "    \n",
    "print(verificar_se_tem_no_dicionario('notebook'))\n",
    "\n",
    "# 2. Exercício: Atualizar Preço de um Produto\n",
    "# Objetivo: Crie uma função que atualize o preço de um produto no dicionário.\n",
    "\n",
    "def mudar_preco_produtos(produto:str, valor:int, lista: dict[str, int]) -> None:  \n",
    "     lista[produto] = valor\n",
    "     print(f\"O novo preço de {produto} é R$ {valor}\")\n",
    "\n",
    "print(mudar_preco_produtos('notebook', 200, produtos))\n",
    "print(produtos)"
   ]
  },
  {
   "cell_type": "code",
   "execution_count": null,
   "id": "53a6b91b",
   "metadata": {},
   "outputs": [
    {
     "name": "stdout",
     "output_type": "stream",
     "text": [
      "{'mouse': 400, 'teclado': 100, 'monitor': 600}\n"
     ]
    }
   ],
   "source": [
    "# Objetivo: Crie uma função que calcule o valor total dos produtos no dicionário.\n",
    "loja: dict[str, int] = {\n",
    "    'mouse': 400,\n",
    "    'teclado': 100,\n",
    "    'monitor': 600\n",
    "}\n",
    "\n",
    "print(loja)"
   ]
  },
  {
   "cell_type": "code",
   "execution_count": 7,
   "id": "8de387ce",
   "metadata": {},
   "outputs": [
    {
     "name": "stdout",
     "output_type": "stream",
     "text": [
      "1100\n"
     ]
    }
   ],
   "source": [
    "def soma_total_produtos(lista: dict[str, int]) -> int:\n",
    "    total = 0\n",
    "    for precos in loja.values():\n",
    "        total += precos\n",
    "    return total\n",
    "print(soma_total_produtos(loja))"
   ]
  },
  {
   "cell_type": "code",
   "execution_count": 15,
   "id": "bf2765c7",
   "metadata": {},
   "outputs": [
    {
     "name": "stdout",
     "output_type": "stream",
     "text": [
      "{'cadeira': 20, 'mesa': 50, 'estante': 0}\n"
     ]
    }
   ],
   "source": [
    "# 🟩 1. Verificar Produto em Estoque\n",
    "# Crie uma função que receba o nome de um produto e um dicionário de estoque,\n",
    "#  e retorne True se o produto estiver disponível (quantidade > 0), ou False caso contrário.\n",
    "\n",
    "loja2 : dict[str, int] = {\n",
    "    'cadeira' : 20,\n",
    "    'mesa': 50,\n",
    "    'estante': 0\n",
    "}\n",
    "print(loja2)\n"
   ]
  },
  {
   "cell_type": "code",
   "execution_count": 16,
   "id": "0b4df00f",
   "metadata": {},
   "outputs": [
    {
     "name": "stdout",
     "output_type": "stream",
     "text": [
      "Produto  NÃO tem no estoque\n"
     ]
    }
   ],
   "source": [
    "def verificar_produto_estoque(lista: dict[str, int], nome:str) -> str:\n",
    "    if nome in lista and lista[nome] > 0:\n",
    "        return 'Produto tem no estoque'\n",
    "    else:\n",
    "         return 'Produto  NÃO tem no estoque'\n",
    "print(verificar_produto_estoque(loja2, 'estante'))"
   ]
  },
  {
   "cell_type": "code",
   "execution_count": null,
   "id": "b283c739",
   "metadata": {},
   "outputs": [
    {
     "name": "stdout",
     "output_type": "stream",
     "text": [
      "1\n"
     ]
    }
   ],
   "source": [
    "# 2. Contar Produtos Acima de um Valor\n",
    "# Crie uma função que conte quantos produtos têm preço maior que um determinado valor.\n",
    "loja3 : dict[str, int] = {\n",
    "    'cadeira' : 20,\n",
    "    'mesa': 50,\n",
    "    'estante': 0,\n",
    "    'cadeira_gamer' : 25\n",
    "}\n",
    "\n",
    "def retorna_maior_valor_que(valor:int, lista: dict[str, int]) -> int:\n",
    "    contagem = 0\n",
    "    for valores in lista.values():\n",
    "        if valores > valor:\n",
    "            contagem += 1\n",
    "    return contagem\n",
    "\n",
    "print(retorna_maior_valor_que(30, loja3))"
   ]
  },
  {
   "cell_type": "code",
   "execution_count": 34,
   "id": "cc3b42e0",
   "metadata": {},
   "outputs": [
    {
     "name": "stdout",
     "output_type": "stream",
     "text": [
      "mesa\n"
     ]
    }
   ],
   "source": [
    "# 🟦 3. Encontrar o Produto Mais Caro\n",
    "# Crie uma função que retorne o nome do produto mais caro da lista.\n",
    "loja4 : dict[str, int] = {\n",
    "    'cadeira' : 20,\n",
    "    'mesa': 50,\n",
    "    'estante': 0,\n",
    "    'cadeira_gamer' : 25\n",
    "}\n",
    "\n",
    "def retorna_produto_mais_caro(lista: dict[str, int]) -> str:\n",
    "    maior = 0\n",
    "    produto_mais_caro = ''\n",
    "    for nome, values in lista.items():\n",
    "        if values > maior:\n",
    "            maior = values\n",
    "            produto_mais_caro = nome\n",
    "    return produto_mais_caro\n",
    "print(retorna_produto_mais_caro(loja4))\n",
    "        "
   ]
  },
  {
   "cell_type": "code",
   "execution_count": 42,
   "id": "10419417",
   "metadata": {},
   "outputs": [
    {
     "name": "stdout",
     "output_type": "stream",
     "text": [
      "{'cadeira': 19.4, 'mesa': 48.5, 'estante': 0.0, 'cadeira_gamer': 24.25, 20: 58.2}\n"
     ]
    }
   ],
   "source": [
    "# 🟧 4. Aplicar Desconto a Todos os Produtos\n",
    "# Crie uma função que aplique um desconto em porcentagem (ex: 10%) a todos os produtos de um dicionário.\n",
    "\n",
    "def aplicando_desconto_de(desconto: float, lista: dict[str,int]) -> dict[str,int]:\n",
    "    nova_lista = {}\n",
    "    for produto, preco in lista.items():\n",
    "        novo_preco = preco * (1 - desconto / 100)\n",
    "        nova_lista[produto] = round(novo_preco, 2)\n",
    "    return nova_lista\n",
    "print(aplicando_desconto_de(3, loja4))"
   ]
  }
 ],
 "metadata": {
  "kernelspec": {
   "display_name": "base",
   "language": "python",
   "name": "python3"
  },
  "language_info": {
   "codemirror_mode": {
    "name": "ipython",
    "version": 3
   },
   "file_extension": ".py",
   "mimetype": "text/x-python",
   "name": "python",
   "nbconvert_exporter": "python",
   "pygments_lexer": "ipython3",
   "version": "3.12.7"
  }
 },
 "nbformat": 4,
 "nbformat_minor": 5
}
